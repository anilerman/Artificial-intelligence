{
 "cells": [
  {
   "cell_type": "code",
   "execution_count": 1,
   "id": "6c2df064",
   "metadata": {},
   "outputs": [],
   "source": [
    "import numpy as np"
   ]
  },
  {
   "cell_type": "code",
   "execution_count": 4,
   "id": "06381446",
   "metadata": {},
   "outputs": [
    {
     "data": {
      "text/plain": [
       "array([10., nan, 20., 30., 60., nan, 90., inf])"
      ]
     },
     "execution_count": 4,
     "metadata": {},
     "output_type": "execute_result"
    }
   ],
   "source": [
    "a = np.array([10, np.nan, 20, 30, 60, np.nan, 90, np.inf])\n",
    "a"
   ]
  },
  {
   "cell_type": "code",
   "execution_count": 6,
   "id": "d82cfb09",
   "metadata": {},
   "outputs": [
    {
     "data": {
      "text/plain": [
       "array([False,  True, False, False, False,  True, False, False])"
      ]
     },
     "execution_count": 6,
     "metadata": {},
     "output_type": "execute_result"
    }
   ],
   "source": [
    "np.isnan(a)"
   ]
  },
  {
   "cell_type": "code",
   "execution_count": 7,
   "id": "1702077f",
   "metadata": {},
   "outputs": [
    {
     "data": {
      "text/plain": [
       "(array([1, 5], dtype=int64),)"
      ]
     },
     "execution_count": 7,
     "metadata": {},
     "output_type": "execute_result"
    }
   ],
   "source": [
    "np.where(np.isnan(a))"
   ]
  },
  {
   "cell_type": "code",
   "execution_count": 8,
   "id": "1d990115",
   "metadata": {},
   "outputs": [
    {
     "data": {
      "text/plain": [
       "(array([0, 1, 2, 3, 4, 5, 6, 7], dtype=int64),)"
      ]
     },
     "execution_count": 8,
     "metadata": {},
     "output_type": "execute_result"
    }
   ],
   "source": [
    "np.where(a)"
   ]
  },
  {
   "cell_type": "code",
   "execution_count": 9,
   "id": "b69deb3f",
   "metadata": {},
   "outputs": [
    {
     "data": {
      "text/plain": [
       "array([10., 99., 20., 30., 60., 99., 90., inf])"
      ]
     },
     "execution_count": 9,
     "metadata": {},
     "output_type": "execute_result"
    }
   ],
   "source": [
    "a[np.isnan(a)] = 99\n",
    "a"
   ]
  },
  {
   "cell_type": "code",
   "execution_count": 10,
   "id": "524d11c7",
   "metadata": {},
   "outputs": [
    {
     "data": {
      "text/plain": [
       "array([[ 1.,  2., nan,  4.],\n",
       "       [nan,  6.,  7.,  8.],\n",
       "       [10., nan, 12., 13.],\n",
       "       [14., 15., 16., 17.]])"
      ]
     },
     "execution_count": 10,
     "metadata": {},
     "output_type": "execute_result"
    }
   ],
   "source": [
    "A = np.array([[1, 2, np.nan, 4], [np.nan, 6, 7, 8], [10, np.nan, 12, 13], [14, 15, 16, 17]])\n",
    "A"
   ]
  },
  {
   "cell_type": "code",
   "execution_count": 12,
   "id": "0fa3197a",
   "metadata": {},
   "outputs": [
    {
     "data": {
      "text/plain": [
       "array([[False, False,  True, False],\n",
       "       [ True, False, False, False],\n",
       "       [False,  True, False, False],\n",
       "       [False, False, False, False]])"
      ]
     },
     "execution_count": 12,
     "metadata": {},
     "output_type": "execute_result"
    }
   ],
   "source": [
    "np.isnan(A)"
   ]
  },
  {
   "cell_type": "code",
   "execution_count": 17,
   "id": "73fab497",
   "metadata": {},
   "outputs": [
    {
     "data": {
      "text/plain": [
       "(array([0, 1, 2], dtype=int64), array([2, 0, 1], dtype=int64))"
      ]
     },
     "execution_count": 17,
     "metadata": {},
     "output_type": "execute_result"
    }
   ],
   "source": [
    "b = np.where(np.isnan(A))\n",
    "b"
   ]
  },
  {
   "cell_type": "code",
   "execution_count": 24,
   "id": "abc2975e",
   "metadata": {},
   "outputs": [
    {
     "data": {
      "text/plain": [
       "(array([[0., 0., 0., 0., 0., 0., 0., 0., 0., 0.],\n",
       "        [0., 0., 0., 0., 0., 0., 0., 0., 0., 0.]]),\n",
       " array([[1, 1, 1, 1, 1, 1, 1, 1, 1, 1],\n",
       "        [1, 1, 1, 1, 1, 1, 1, 1, 1, 1]]))"
      ]
     },
     "execution_count": 24,
     "metadata": {},
     "output_type": "execute_result"
    }
   ],
   "source": [
    "a = np.zeros(20).reshape(2, -1)\n",
    "b = np.repeat(1, 20).reshape(2, -1)\n",
    "a,b"
   ]
  },
  {
   "cell_type": "code",
   "execution_count": 25,
   "id": "0e894aec",
   "metadata": {},
   "outputs": [
    {
     "data": {
      "text/plain": [
       "array([[0., 0., 0., 0., 0., 0., 0., 0., 0., 0.],\n",
       "       [0., 0., 0., 0., 0., 0., 0., 0., 0., 0.],\n",
       "       [1., 1., 1., 1., 1., 1., 1., 1., 1., 1.],\n",
       "       [1., 1., 1., 1., 1., 1., 1., 1., 1., 1.]])"
      ]
     },
     "execution_count": 25,
     "metadata": {},
     "output_type": "execute_result"
    }
   ],
   "source": [
    "np.vstack([a, b])"
   ]
  },
  {
   "cell_type": "code",
   "execution_count": 26,
   "id": "e0b5c564",
   "metadata": {},
   "outputs": [
    {
     "data": {
      "text/plain": [
       "array([[0., 0., 0., 0., 0., 0., 0., 0., 0., 0., 1., 1., 1., 1., 1., 1.,\n",
       "        1., 1., 1., 1.],\n",
       "       [0., 0., 0., 0., 0., 0., 0., 0., 0., 0., 1., 1., 1., 1., 1., 1.,\n",
       "        1., 1., 1., 1.]])"
      ]
     },
     "execution_count": 26,
     "metadata": {},
     "output_type": "execute_result"
    }
   ],
   "source": [
    "np.hstack([a, b])"
   ]
  },
  {
   "cell_type": "code",
   "execution_count": 27,
   "id": "1a129303",
   "metadata": {},
   "outputs": [],
   "source": [
    "#Kesişim"
   ]
  },
  {
   "cell_type": "code",
   "execution_count": 28,
   "id": "65fb4962",
   "metadata": {},
   "outputs": [],
   "source": [
    "c1 = np.array([10,20,30,40,50,60])\n",
    "c2 = np.array([12,20,33,40,55,60])"
   ]
  },
  {
   "cell_type": "code",
   "execution_count": 29,
   "id": "18f41c28",
   "metadata": {},
   "outputs": [
    {
     "data": {
      "text/plain": [
       "array([20, 40, 60])"
      ]
     },
     "execution_count": 29,
     "metadata": {},
     "output_type": "execute_result"
    }
   ],
   "source": [
    "np.intersect1d(c1,c2)"
   ]
  },
  {
   "cell_type": "code",
   "execution_count": 30,
   "id": "ec3092a1",
   "metadata": {},
   "outputs": [
    {
     "data": {
      "text/plain": [
       "array([10, 30, 50])"
      ]
     },
     "execution_count": 30,
     "metadata": {},
     "output_type": "execute_result"
    }
   ],
   "source": [
    "np.setdiff1d(c1,c2)"
   ]
  },
  {
   "cell_type": "code",
   "execution_count": 31,
   "id": "ffade76d",
   "metadata": {},
   "outputs": [
    {
     "data": {
      "text/plain": [
       "array([ 0, 10, 20, 21, 22, 23, 24, 25, 26, 27, 28, 29, 30, 31, 32, 33, 34,\n",
       "       40, 50])"
      ]
     },
     "execution_count": 31,
     "metadata": {},
     "output_type": "execute_result"
    }
   ],
   "source": [
    "a1 = np.arange(0,60)\n",
    "a1[np.where(((a1>20)&(a1 < 35)|(a1 % 10 == 0)))]"
   ]
  },
  {
   "cell_type": "code",
   "execution_count": 32,
   "id": "5a49a44a",
   "metadata": {},
   "outputs": [],
   "source": [
    "#Reverse Array"
   ]
  },
  {
   "cell_type": "code",
   "execution_count": 33,
   "id": "280c1783",
   "metadata": {},
   "outputs": [
    {
     "data": {
      "text/plain": [
       "array([10, 11, 12, 13, 14, 15, 16, 17, 18, 19, 20, 21, 22, 23, 24, 25, 26,\n",
       "       27, 28, 29])"
      ]
     },
     "execution_count": 33,
     "metadata": {},
     "output_type": "execute_result"
    }
   ],
   "source": [
    "a4 = np.arange(10, 30)\n",
    "a4"
   ]
  },
  {
   "cell_type": "code",
   "execution_count": 35,
   "id": "ef7b3f5f",
   "metadata": {},
   "outputs": [
    {
     "data": {
      "text/plain": [
       "array([29, 28, 27, 26, 25, 24, 23, 22, 21, 20, 19, 18, 17, 16, 15, 14, 13,\n",
       "       12, 11, 10])"
      ]
     },
     "execution_count": 35,
     "metadata": {},
     "output_type": "execute_result"
    }
   ],
   "source": [
    "a4[::-1]"
   ]
  },
  {
   "cell_type": "code",
   "execution_count": 36,
   "id": "d60fe3e3",
   "metadata": {},
   "outputs": [
    {
     "data": {
      "text/plain": [
       "array([29, 28, 27, 26, 25, 24, 23, 22, 21, 20, 19, 18, 17, 16, 15, 14, 13,\n",
       "       12, 11, 10])"
      ]
     },
     "execution_count": 36,
     "metadata": {},
     "output_type": "execute_result"
    }
   ],
   "source": [
    "np.flip(a4)"
   ]
  },
  {
   "cell_type": "code",
   "execution_count": 37,
   "id": "840e120f",
   "metadata": {},
   "outputs": [
    {
     "data": {
      "text/plain": [
       "array([[ 3,  2,  8,  1],\n",
       "       [70, 50, 10, 67],\n",
       "       [45, 25, 75, 15],\n",
       "       [12,  9, 77,  4]])"
      ]
     },
     "execution_count": 37,
     "metadata": {},
     "output_type": "execute_result"
    }
   ],
   "source": [
    "a3 = np.array([[3,2,8,1], [70,50,10,67], [45, 25, 75, 15], [12, 9, 77, 4]])\n",
    "a3"
   ]
  },
  {
   "cell_type": "code",
   "execution_count": 38,
   "id": "7c55eb7a",
   "metadata": {},
   "outputs": [
    {
     "data": {
      "text/plain": [
       "array([[12,  9, 77,  4],\n",
       "       [45, 25, 75, 15],\n",
       "       [70, 50, 10, 67],\n",
       "       [ 3,  2,  8,  1]])"
      ]
     },
     "execution_count": 38,
     "metadata": {},
     "output_type": "execute_result"
    }
   ],
   "source": [
    "a3[::-1,]"
   ]
  },
  {
   "cell_type": "code",
   "execution_count": 39,
   "id": "2a8acb1f",
   "metadata": {},
   "outputs": [
    {
     "data": {
      "text/plain": [
       "array([[ 1,  8,  2,  3],\n",
       "       [67, 10, 50, 70],\n",
       "       [15, 75, 25, 45],\n",
       "       [ 4, 77,  9, 12]])"
      ]
     },
     "execution_count": 39,
     "metadata": {},
     "output_type": "execute_result"
    }
   ],
   "source": [
    "a3[:,::-1]"
   ]
  },
  {
   "cell_type": "code",
   "execution_count": 40,
   "id": "c8a7d83c",
   "metadata": {},
   "outputs": [
    {
     "data": {
      "text/plain": [
       "array([[ 4, 77,  9, 12],\n",
       "       [15, 75, 25, 45],\n",
       "       [67, 10, 50, 70],\n",
       "       [ 1,  8,  2,  3]])"
      ]
     },
     "execution_count": 40,
     "metadata": {},
     "output_type": "execute_result"
    }
   ],
   "source": [
    "a3[::-1,::-1]"
   ]
  },
  {
   "cell_type": "code",
   "execution_count": 41,
   "id": "0b0364bd",
   "metadata": {},
   "outputs": [],
   "source": [
    "#Sıralama"
   ]
  },
  {
   "cell_type": "code",
   "execution_count": 42,
   "id": "713fd219",
   "metadata": {},
   "outputs": [
    {
     "data": {
      "text/plain": [
       "array([ 2,  5, 10, 12, 17, 22, 33, 92])"
      ]
     },
     "execution_count": 42,
     "metadata": {},
     "output_type": "execute_result"
    }
   ],
   "source": [
    "a = np.array([10, 5, 2, 22, 12, 92, 17, 33])\n",
    "np.sort(a)"
   ]
  },
  {
   "cell_type": "code",
   "execution_count": 43,
   "id": "5820f8e2",
   "metadata": {},
   "outputs": [
    {
     "data": {
      "text/plain": [
       "array([[ 3,  2,  8,  1],\n",
       "       [70, 50, 10, 67],\n",
       "       [45, 25, 75, 15]])"
      ]
     },
     "execution_count": 43,
     "metadata": {},
     "output_type": "execute_result"
    }
   ],
   "source": [
    "a3 = np.array([[3,2,8,1], [70,50,10,67], [45, 25, 75, 15]])\n",
    "a3"
   ]
  },
  {
   "cell_type": "code",
   "execution_count": 44,
   "id": "772e5a24",
   "metadata": {},
   "outputs": [
    {
     "data": {
      "text/plain": [
       "array([[ 1,  2,  3,  8],\n",
       "       [10, 50, 67, 70],\n",
       "       [15, 25, 45, 75]])"
      ]
     },
     "execution_count": 44,
     "metadata": {},
     "output_type": "execute_result"
    }
   ],
   "source": [
    "np.sort(a3)"
   ]
  },
  {
   "cell_type": "code",
   "execution_count": 45,
   "id": "a3a524f2",
   "metadata": {},
   "outputs": [
    {
     "data": {
      "text/plain": [
       "array([[ 1,  2,  3,  8],\n",
       "       [10, 50, 67, 70],\n",
       "       [15, 25, 45, 75]])"
      ]
     },
     "execution_count": 45,
     "metadata": {},
     "output_type": "execute_result"
    }
   ],
   "source": [
    "np.sort(a3, axis = 1)"
   ]
  },
  {
   "cell_type": "code",
   "execution_count": 46,
   "id": "b0326e78",
   "metadata": {},
   "outputs": [
    {
     "data": {
      "text/plain": [
       "array([[ 3,  2,  8,  1],\n",
       "       [45, 25, 10, 15],\n",
       "       [70, 50, 75, 67]])"
      ]
     },
     "execution_count": 46,
     "metadata": {},
     "output_type": "execute_result"
    }
   ],
   "source": [
    "np.sort(a3, axis = 0)"
   ]
  },
  {
   "cell_type": "code",
   "execution_count": 47,
   "id": "90146600",
   "metadata": {},
   "outputs": [],
   "source": [
    "#Dosya yükleme & saklama"
   ]
  },
  {
   "cell_type": "code",
   "execution_count": 48,
   "id": "0a7646f6",
   "metadata": {},
   "outputs": [
    {
     "data": {
      "text/plain": [
       "array([ 10,  21,  32,  43,  54,  65,  76,  87,  98, 109, 120, 131, 142,\n",
       "       153, 164, 175, 186, 197])"
      ]
     },
     "execution_count": 48,
     "metadata": {},
     "output_type": "execute_result"
    }
   ],
   "source": [
    "p7 = np.arange(10, 200, 11)\n",
    "p7"
   ]
  },
  {
   "cell_type": "code",
   "execution_count": 49,
   "id": "8e4f54b2",
   "metadata": {},
   "outputs": [],
   "source": [
    "np.savetxt('testAI7.csv', p7, delimiter = ',')"
   ]
  },
  {
   "cell_type": "code",
   "execution_count": 50,
   "id": "d29a7696",
   "metadata": {},
   "outputs": [
    {
     "data": {
      "text/plain": [
       "array([[  0,   1,   2,   3,   4,   5,   6,   7,   8,   9,  10],\n",
       "       [ 11,  12,  13,  14,  15,  16,  17,  18,  19,  20,  21],\n",
       "       [ 22,  23,  24,  25,  26,  27,  28,  29,  30,  31,  32],\n",
       "       [ 33,  34,  35,  36,  37,  38,  39,  40,  41,  42,  43],\n",
       "       [ 44,  45,  46,  47,  48,  49,  50,  51,  52,  53,  54],\n",
       "       [ 55,  56,  57,  58,  59,  60,  61,  62,  63,  64,  65],\n",
       "       [ 66,  67,  68,  69,  70,  71,  72,  73,  74,  75,  76],\n",
       "       [ 77,  78,  79,  80,  81,  82,  83,  84,  85,  86,  87],\n",
       "       [ 88,  89,  90,  91,  92,  93,  94,  95,  96,  97,  98],\n",
       "       [ 99, 100, 101, 102, 103, 104, 105, 106, 107, 108, 109],\n",
       "       [110, 111, 112, 113, 114, 115, 116, 117, 118, 119, 120]])"
      ]
     },
     "execution_count": 50,
     "metadata": {},
     "output_type": "execute_result"
    }
   ],
   "source": [
    "p8 = np.arange(0, 121).reshape(11, 11)\n",
    "p8"
   ]
  },
  {
   "cell_type": "code",
   "execution_count": 51,
   "id": "4f9d60fe",
   "metadata": {},
   "outputs": [],
   "source": [
    "np.save('testAIGroup7.npy', p8)"
   ]
  },
  {
   "cell_type": "code",
   "execution_count": 52,
   "id": "bcee805f",
   "metadata": {},
   "outputs": [
    {
     "data": {
      "text/plain": [
       "array([[  0,   1,   2,   3,   4,   5,   6,   7,   8,   9,  10],\n",
       "       [ 11,  12,  13,  14,  15,  16,  17,  18,  19,  20,  21],\n",
       "       [ 22,  23,  24,  25,  26,  27,  28,  29,  30,  31,  32],\n",
       "       [ 33,  34,  35,  36,  37,  38,  39,  40,  41,  42,  43],\n",
       "       [ 44,  45,  46,  47,  48,  49,  50,  51,  52,  53,  54],\n",
       "       [ 55,  56,  57,  58,  59,  60,  61,  62,  63,  64,  65],\n",
       "       [ 66,  67,  68,  69,  70,  71,  72,  73,  74,  75,  76],\n",
       "       [ 77,  78,  79,  80,  81,  82,  83,  84,  85,  86,  87],\n",
       "       [ 88,  89,  90,  91,  92,  93,  94,  95,  96,  97,  98],\n",
       "       [ 99, 100, 101, 102, 103, 104, 105, 106, 107, 108, 109],\n",
       "       [110, 111, 112, 113, 114, 115, 116, 117, 118, 119, 120]])"
      ]
     },
     "execution_count": 52,
     "metadata": {},
     "output_type": "execute_result"
    }
   ],
   "source": [
    "p9 = np.load('testAIGroup7.npy')\n",
    "p9"
   ]
  },
  {
   "cell_type": "code",
   "execution_count": 53,
   "id": "aaecb773",
   "metadata": {},
   "outputs": [
    {
     "data": {
      "text/plain": [
       "array([[     0,      1,      2, ...,    997,    998,    999],\n",
       "       [  1000,   1001,   1002, ...,   1997,   1998,   1999],\n",
       "       [  2000,   2001,   2002, ...,   2997,   2998,   2999],\n",
       "       ...,\n",
       "       [997000, 997001, 997002, ..., 997997, 997998, 997999],\n",
       "       [998000, 998001, 998002, ..., 998997, 998998, 998999],\n",
       "       [999000, 999001, 999002, ..., 999997, 999998, 999999]])"
      ]
     },
     "execution_count": 53,
     "metadata": {},
     "output_type": "execute_result"
    }
   ],
   "source": [
    "p11 = np.arange(0, 1000000).reshape(1000, 1000)\n",
    "p11"
   ]
  },
  {
   "cell_type": "code",
   "execution_count": 54,
   "id": "e1043a9f",
   "metadata": {},
   "outputs": [],
   "source": [
    "from IPython.display import Image"
   ]
  },
  {
   "cell_type": "code",
   "execution_count": 55,
   "id": "8743ddcf",
   "metadata": {},
   "outputs": [],
   "source": [
    "np.savez_compressed('test2107.npz', p11)"
   ]
  },
  {
   "cell_type": "code",
   "execution_count": 56,
   "id": "731d6987",
   "metadata": {},
   "outputs": [],
   "source": [
    "np.save('test2108.npy', p11)"
   ]
  },
  {
   "cell_type": "code",
   "execution_count": 59,
   "id": "723188ab",
   "metadata": {},
   "outputs": [],
   "source": [
    "#Vektörler"
   ]
  },
  {
   "cell_type": "code",
   "execution_count": 60,
   "id": "96cd65d8",
   "metadata": {},
   "outputs": [
    {
     "name": "stdout",
     "output_type": "stream",
     "text": [
      "V3 = [4 6]\n"
     ]
    }
   ],
   "source": [
    "v1 = np.array([1,2])\n",
    "v2 = np.array([3,4])\n",
    "#v3 = v1 + v2\n",
    "v3 = np.add(v1, v2)\n",
    "print('V3 =', v3)"
   ]
  },
  {
   "cell_type": "code",
   "execution_count": 61,
   "id": "2898d749",
   "metadata": {},
   "outputs": [
    {
     "name": "stdout",
     "output_type": "stream",
     "text": [
      "[20 42 72]\n"
     ]
    }
   ],
   "source": [
    "a1 = np.array([5, 6, 8])\n",
    "a2 = np.array([4, 7, 9])\n",
    "print(np.multiply(a1, a2))"
   ]
  },
  {
   "cell_type": "code",
   "execution_count": 62,
   "id": "7c4bacc2",
   "metadata": {},
   "outputs": [],
   "source": [
    "#Dot product"
   ]
  },
  {
   "cell_type": "code",
   "execution_count": 63,
   "id": "0b4854c9",
   "metadata": {},
   "outputs": [
    {
     "name": "stdout",
     "output_type": "stream",
     "text": [
      "Dot product -  32\n",
      "Dot product using np.dot 32\n",
      "Dot product using np.inner 32\n",
      "Dot product using np.multiply & sum 32\n",
      "Dot product using np.matmul 32\n",
      "Dot product using for loop 32\n"
     ]
    }
   ],
   "source": [
    "a1 = np.array([1,2,3])\n",
    "a2 = np.array([4,5,6])\n",
    "\n",
    "dotp = a1@a2\n",
    "print(\"Dot product - \", dotp)\n",
    "\n",
    "dotp2 = np.dot(a1, a2)\n",
    "print(\"Dot product using np.dot\", dotp2)\n",
    "\n",
    "dotp3 = np.inner(a1, a2)\n",
    "print(\"Dot product using np.inner\", dotp3)\n",
    "\n",
    "dotp4 = sum(np.multiply(a1, a2))\n",
    "print(\"Dot product using np.multiply & sum\", dotp4)\n",
    "\n",
    "dotp5 = np.matmul(a1, a2)\n",
    "print(\"Dot product using np.matmul\", dotp)\n",
    "\n",
    "dotp6 = 0\n",
    "for i in range(len(a1)):\n",
    "    dotp6 = dotp6 + a1[i]*a2[i]\n",
    "print(\"Dot product using for loop\", dotp6)\n"
   ]
  },
  {
   "cell_type": "code",
   "execution_count": 64,
   "id": "c3df28b5",
   "metadata": {},
   "outputs": [
    {
     "data": {
      "text/plain": [
       "9.539392014169456"
      ]
     },
     "execution_count": 64,
     "metadata": {},
     "output_type": "execute_result"
    }
   ],
   "source": [
    "v3 = np.array([1,2,3,4,5,6])\n",
    "length = np.sqrt(np.dot(v3, v3))\n",
    "length"
   ]
  },
  {
   "cell_type": "code",
   "execution_count": 65,
   "id": "88f3943e",
   "metadata": {},
   "outputs": [],
   "source": [
    "#Normalizasyon\n"
   ]
  },
  {
   "cell_type": "code",
   "execution_count": 66,
   "id": "adb7e81c",
   "metadata": {},
   "outputs": [
    {
     "data": {
      "text/plain": [
       "(3.605551275463989, array([0.5547002 , 0.83205029]))"
      ]
     },
     "execution_count": 66,
     "metadata": {},
     "output_type": "execute_result"
    }
   ],
   "source": [
    "v1 = [2, 3]\n",
    "length_v1 = np.sqrt(np.dot(v1, v1))\n",
    "norm_v1 = v1 / length_v1\n",
    "length_v1, norm_v1"
   ]
  },
  {
   "cell_type": "code",
   "execution_count": 67,
   "id": "8a873777",
   "metadata": {},
   "outputs": [
    {
     "data": {
      "text/plain": [
       "array([0.5547002 , 0.83205029])"
      ]
     },
     "execution_count": 67,
     "metadata": {},
     "output_type": "execute_result"
    }
   ],
   "source": [
    "v1 = [2, 3]\n",
    "norm_v1 = v1 / np.linalg.norm(v1)\n",
    "norm_v1"
   ]
  },
  {
   "cell_type": "code",
   "execution_count": 68,
   "id": "49760b16",
   "metadata": {},
   "outputs": [
    {
     "data": {
      "text/plain": [
       "array([[0., 0., 0., 0.],\n",
       "       [0., 0., 0., 0.],\n",
       "       [0., 0., 0., 0.],\n",
       "       [0., 0., 0., 0.]])"
      ]
     },
     "execution_count": 68,
     "metadata": {},
     "output_type": "execute_result"
    }
   ],
   "source": [
    "np.zeros((4,4))"
   ]
  },
  {
   "cell_type": "code",
   "execution_count": 69,
   "id": "8fd04719",
   "metadata": {},
   "outputs": [
    {
     "data": {
      "text/plain": [
       "array([[1., 1., 1., 1., 1.],\n",
       "       [1., 1., 1., 1., 1.],\n",
       "       [1., 1., 1., 1., 1.],\n",
       "       [1., 1., 1., 1., 1.],\n",
       "       [1., 1., 1., 1., 1.]])"
      ]
     },
     "execution_count": 69,
     "metadata": {},
     "output_type": "execute_result"
    }
   ],
   "source": [
    "np.ones((5,5))"
   ]
  },
  {
   "cell_type": "code",
   "execution_count": 77,
   "id": "98213536",
   "metadata": {},
   "outputs": [],
   "source": [
    "mat1 = np.random.randint(0, 5000, (10,10))"
   ]
  },
  {
   "cell_type": "code",
   "execution_count": 78,
   "id": "330231f7",
   "metadata": {},
   "outputs": [
    {
     "data": {
      "text/plain": [
       "array([[3485,  699, 1659,   77, 2173, 4836, 1288, 4509, 3804, 3141],\n",
       "       [4260, 4440, 3369, 2070, 4015, 4384, 4895, 3576, 2206, 1811],\n",
       "       [ 481, 1116,  248, 2325, 1497, 3982, 2296,  108, 4550,  582],\n",
       "       [ 913, 4648, 1119, 1702,  755,  762, 2949, 3297, 4672, 3549],\n",
       "       [2550, 2946, 4989, 4018, 2371, 3588,   55, 3422, 1821, 3348],\n",
       "       [3455, 1149,  509, 3700, 3637, 4746, 1075, 3509, 3186, 2352],\n",
       "       [ 986,  272, 1763, 2851, 4168, 4245, 3552, 3486, 2643, 3961],\n",
       "       [3662, 2895, 1676, 3887, 2260,  510, 2353,  522, 3346, 3527],\n",
       "       [ 982, 1442, 1195, 2659, 3155, 3205, 2797, 3548, 3949, 2583],\n",
       "       [2544,  272, 3429,  992, 3618, 3912,  666, 2701,  276, 1695]])"
      ]
     },
     "execution_count": 78,
     "metadata": {},
     "output_type": "execute_result"
    }
   ],
   "source": [
    "mat1"
   ]
  },
  {
   "cell_type": "code",
   "execution_count": 79,
   "id": "69cfed2f",
   "metadata": {},
   "outputs": [
    {
     "data": {
      "text/plain": [
       "array([3485,  699, 1659, 2173, 4836, 1288, 4509, 3804, 3141, 4260, 4440,\n",
       "       3369, 2070, 4015, 4384, 4895, 3576, 2206, 1811,  481, 1116, 2325,\n",
       "       1497, 3982, 2296, 4550,  582,  913, 4648, 1119, 1702,  755,  762,\n",
       "       2949, 3297, 4672, 3549, 2550, 2946, 4989, 4018, 2371, 3588, 3422,\n",
       "       1821, 3348, 3455, 1149,  509, 3700, 3637, 4746, 1075, 3509, 3186,\n",
       "       2352,  986, 1763, 2851, 4168, 4245, 3552, 3486, 2643, 3961, 3662,\n",
       "       2895, 1676, 3887, 2260,  510, 2353,  522, 3346, 3527,  982, 1442,\n",
       "       1195, 2659, 3155, 3205, 2797, 3548, 3949, 2583, 2544, 3429,  992,\n",
       "       3618, 3912,  666, 2701, 1695])"
      ]
     },
     "execution_count": 79,
     "metadata": {},
     "output_type": "execute_result"
    }
   ],
   "source": [
    "mat1[mat1 > 300]"
   ]
  },
  {
   "cell_type": "code",
   "execution_count": 80,
   "id": "8e1785cd",
   "metadata": {},
   "outputs": [],
   "source": [
    "#Birim (Identity) Matris"
   ]
  },
  {
   "cell_type": "code",
   "execution_count": 85,
   "id": "5fdcac6a",
   "metadata": {},
   "outputs": [
    {
     "data": {
      "text/plain": [
       "array([[1., 0., 0., 0., 0., 0., 0., 0., 0.],\n",
       "       [0., 1., 0., 0., 0., 0., 0., 0., 0.],\n",
       "       [0., 0., 1., 0., 0., 0., 0., 0., 0.],\n",
       "       [0., 0., 0., 1., 0., 0., 0., 0., 0.],\n",
       "       [0., 0., 0., 0., 1., 0., 0., 0., 0.],\n",
       "       [0., 0., 0., 0., 0., 1., 0., 0., 0.],\n",
       "       [0., 0., 0., 0., 0., 0., 1., 0., 0.],\n",
       "       [0., 0., 0., 0., 0., 0., 0., 1., 0.],\n",
       "       [0., 0., 0., 0., 0., 0., 0., 0., 1.]])"
      ]
     },
     "execution_count": 85,
     "metadata": {},
     "output_type": "execute_result"
    }
   ],
   "source": [
    "I = np.eye(9)\n",
    "I"
   ]
  },
  {
   "cell_type": "code",
   "execution_count": 86,
   "id": "441e5ba0",
   "metadata": {},
   "outputs": [
    {
     "data": {
      "text/plain": [
       "array([[1., 0., 0., 0., 0.],\n",
       "       [0., 1., 0., 0., 0.],\n",
       "       [0., 0., 1., 0., 0.],\n",
       "       [0., 0., 0., 1., 0.],\n",
       "       [0., 0., 0., 0., 1.],\n",
       "       [0., 0., 0., 0., 0.],\n",
       "       [0., 0., 0., 0., 0.],\n",
       "       [0., 0., 0., 0., 0.],\n",
       "       [0., 0., 0., 0., 0.]])"
      ]
     },
     "execution_count": 86,
     "metadata": {},
     "output_type": "execute_result"
    }
   ],
   "source": [
    "I = np.eye(9,5)\n",
    "I"
   ]
  },
  {
   "cell_type": "code",
   "execution_count": 87,
   "id": "bae1d080",
   "metadata": {},
   "outputs": [
    {
     "data": {
      "text/plain": [
       "array([[1, 0, 0, 0, 0, 0, 0, 0],\n",
       "       [0, 2, 0, 0, 0, 0, 0, 0],\n",
       "       [0, 0, 3, 0, 0, 0, 0, 0],\n",
       "       [0, 0, 0, 4, 0, 0, 0, 0],\n",
       "       [0, 0, 0, 0, 5, 0, 0, 0],\n",
       "       [0, 0, 0, 0, 0, 6, 0, 0],\n",
       "       [0, 0, 0, 0, 0, 0, 7, 0],\n",
       "       [0, 0, 0, 0, 0, 0, 0, 8]])"
      ]
     },
     "execution_count": 87,
     "metadata": {},
     "output_type": "execute_result"
    }
   ],
   "source": [
    "D = np.diag([1,2,3,4,5,6,7,8])\n",
    "D"
   ]
  },
  {
   "cell_type": "code",
   "execution_count": 90,
   "id": "bff3db16",
   "metadata": {},
   "outputs": [],
   "source": [
    "#Üçgen (Triangular) Matris"
   ]
  },
  {
   "cell_type": "code",
   "execution_count": 91,
   "id": "c5636519",
   "metadata": {},
   "outputs": [
    {
     "name": "stdout",
     "output_type": "stream",
     "text": [
      "[[-0.84141302 -0.44876222  0.49969895  0.02757126 -1.00946036]\n",
      " [-1.05203563 -0.3722272  -0.01583888 -0.18767454  0.98498982]\n",
      " [-0.69796276 -0.15413912  1.91995738 -0.60105435  0.25650628]\n",
      " [ 0.33972199 -0.10788814 -0.07823149  0.21473467 -0.57765095]\n",
      " [ 0.7280721   0.59485053 -1.205436   -0.32829728  1.93377393]]\n",
      "\n",
      "\n",
      "Upper triangular matrix - \n",
      " [[-0.84141302 -0.44876222  0.49969895  0.02757126 -1.00946036]\n",
      " [ 0.         -0.3722272  -0.01583888 -0.18767454  0.98498982]\n",
      " [ 0.          0.          1.91995738 -0.60105435  0.25650628]\n",
      " [ 0.          0.          0.          0.21473467 -0.57765095]\n",
      " [ 0.          0.          0.          0.          1.93377393]]\n",
      "\n",
      "\n",
      "Lower triangular matrix - \n",
      " [[-0.84141302  0.          0.          0.          0.        ]\n",
      " [-1.05203563 -0.3722272   0.          0.          0.        ]\n",
      " [-0.69796276 -0.15413912  1.91995738  0.          0.        ]\n",
      " [ 0.33972199 -0.10788814 -0.07823149  0.21473467  0.        ]\n",
      " [ 0.7280721   0.59485053 -1.205436   -0.32829728  1.93377393]]\n"
     ]
    }
   ],
   "source": [
    "M = np.random.randn(5, 5)\n",
    "U = np.triu(M) #üst üçgen\n",
    "L = np.tril(M) #alt üçgen\n",
    "\n",
    "print(M)\n",
    "print(\"\\n\")\n",
    "print(\"Upper triangular matrix - \\n\", U)\n",
    "print(\"\\n\")\n",
    "print(\"Lower triangular matrix - \\n\", L)"
   ]
  },
  {
   "cell_type": "code",
   "execution_count": 92,
   "id": "09998d1c",
   "metadata": {},
   "outputs": [
    {
     "name": "stdout",
     "output_type": "stream",
     "text": [
      "\n",
      " Matrix (M) ==> \n",
      " [[ 1  2  3]\n",
      " [ 4 -3  6]\n",
      " [ 7  8  0]]\n",
      "\n",
      "Transpose of M ==> \n",
      " [[ 1  4  7]\n",
      " [ 2 -3  8]\n",
      " [ 3  6  0]]\n",
      "\n",
      "Transpose of M ==> \n",
      " [[ 1  4  7]\n",
      " [ 2 -3  8]\n",
      " [ 3  6  0]]\n"
     ]
    }
   ],
   "source": [
    "M = np.array([[1,2,3], [4, -3, 6], [7, 8, 0]])\n",
    "print(\"\\n Matrix (M) ==> \\n\", M)\n",
    "\n",
    "print(\"\\nTranspose of M ==> \\n\", np.transpose(M))\n",
    "\n",
    "#VEYA\n",
    "\n",
    "print(\"\\nTranspose of M ==> \\n\", M.T)"
   ]
  },
  {
   "cell_type": "code",
   "execution_count": 93,
   "id": "e3e0cff9",
   "metadata": {},
   "outputs": [
    {
     "name": "stdout",
     "output_type": "stream",
     "text": [
      "\n",
      "Determinant of M ==>  195.0\n"
     ]
    }
   ],
   "source": [
    "M = np.array([[1,2,3], [4, -3, 6], [7, 8, 0]])\n",
    "\n",
    "print(\"\\nDeterminant of M ==> \", np.linalg.det(M))"
   ]
  },
  {
   "cell_type": "code",
   "execution_count": 94,
   "id": "732bc44b",
   "metadata": {},
   "outputs": [],
   "source": [
    "#Matrisin Kuvvetini Alma"
   ]
  },
  {
   "cell_type": "code",
   "execution_count": 95,
   "id": "b85008cf",
   "metadata": {},
   "outputs": [
    {
     "data": {
      "text/plain": [
       "array([[1, 2],\n",
       "       [4, 5]])"
      ]
     },
     "execution_count": 95,
     "metadata": {},
     "output_type": "execute_result"
    }
   ],
   "source": [
    "M1 = np.array([[1,2], [4,5]])\n",
    "M1"
   ]
  },
  {
   "cell_type": "code",
   "execution_count": 96,
   "id": "50df5625",
   "metadata": {},
   "outputs": [
    {
     "data": {
      "text/plain": [
       "array([[ 57,  78],\n",
       "       [156, 213]])"
      ]
     },
     "execution_count": 96,
     "metadata": {},
     "output_type": "execute_result"
    }
   ],
   "source": [
    "M1@M1@M1"
   ]
  },
  {
   "cell_type": "code",
   "execution_count": 97,
   "id": "92c7dbef",
   "metadata": {},
   "outputs": [
    {
     "data": {
      "text/plain": [
       "array([[  1,   8],\n",
       "       [ 64, 125]])"
      ]
     },
     "execution_count": 97,
     "metadata": {},
     "output_type": "execute_result"
    }
   ],
   "source": [
    "M1*M1*M1"
   ]
  },
  {
   "cell_type": "code",
   "execution_count": 98,
   "id": "57692dc4",
   "metadata": {},
   "outputs": [
    {
     "data": {
      "text/plain": [
       "array([[ 57,  78],\n",
       "       [156, 213]])"
      ]
     },
     "execution_count": 98,
     "metadata": {},
     "output_type": "execute_result"
    }
   ],
   "source": [
    "np.linalg.matrix_power(M1, 3)\n"
   ]
  },
  {
   "cell_type": "code",
   "execution_count": 99,
   "id": "030be329",
   "metadata": {},
   "outputs": [],
   "source": [
    "#Tensörler"
   ]
  },
  {
   "cell_type": "code",
   "execution_count": 100,
   "id": "bfc9f01c",
   "metadata": {},
   "outputs": [
    {
     "data": {
      "text/plain": [
       "array([[[  1,   2,   3],\n",
       "        [  4,   5,   6],\n",
       "        [  7,   8,   9]],\n",
       "\n",
       "       [[ 10,  20,  30],\n",
       "        [ 40,  50,  60],\n",
       "        [ 70,  80,  90]],\n",
       "\n",
       "       [[100, 200, 300],\n",
       "        [400, 500, 600],\n",
       "        [700, 800, 900]]])"
      ]
     },
     "execution_count": 100,
     "metadata": {},
     "output_type": "execute_result"
    }
   ],
   "source": [
    "T1 = np.array([\n",
    "    [[1,2,3], [4,5,6], [7,8,9]],\n",
    "    [[10, 20, 30], [40, 50, 60], [70, 80, 90]],\n",
    "    [[100, 200, 300], [400, 500, 600], [700, 800, 900]],\n",
    "])\n",
    "\n",
    "T1"
   ]
  },
  {
   "cell_type": "code",
   "execution_count": 103,
   "id": "6f19eca4",
   "metadata": {},
   "outputs": [
    {
     "data": {
      "text/plain": [
       "array([[[0, 0, 0],\n",
       "        [0, 0, 0],\n",
       "        [0, 0, 0]],\n",
       "\n",
       "       [[1, 1, 1],\n",
       "        [1, 1, 1],\n",
       "        [1, 1, 1]],\n",
       "\n",
       "       [[2, 2, 2],\n",
       "        [2, 2, 2],\n",
       "        [2, 2, 2]]])"
      ]
     },
     "execution_count": 103,
     "metadata": {},
     "output_type": "execute_result"
    }
   ],
   "source": [
    "T2 = np.array([\n",
    "    [[0,0,0], [0,0,0], [0,0,0]],\n",
    "    [[1,1,1], [1,1,1], [1,1,1]],\n",
    "    [[2,2,2], [2,2,2], [2,2,2]],\n",
    "])\n",
    "T2"
   ]
  },
  {
   "cell_type": "code",
   "execution_count": 104,
   "id": "d78a4618",
   "metadata": {},
   "outputs": [
    {
     "data": {
      "text/plain": [
       "array([[[  1,   2,   3],\n",
       "        [  4,   5,   6],\n",
       "        [  7,   8,   9]],\n",
       "\n",
       "       [[ 11,  21,  31],\n",
       "        [ 41,  51,  61],\n",
       "        [ 71,  81,  91]],\n",
       "\n",
       "       [[102, 202, 302],\n",
       "        [402, 502, 602],\n",
       "        [702, 802, 902]]])"
      ]
     },
     "execution_count": 104,
     "metadata": {},
     "output_type": "execute_result"
    }
   ],
   "source": [
    "A = T1 + T2\n",
    "#VEYA\n",
    "np.add(T1, T2)"
   ]
  },
  {
   "cell_type": "code",
   "execution_count": 105,
   "id": "fe329d85",
   "metadata": {},
   "outputs": [
    {
     "data": {
      "text/plain": [
       "array([[[  1,   2,   3],\n",
       "        [  4,   5,   6],\n",
       "        [  7,   8,   9]],\n",
       "\n",
       "       [[  9,  19,  29],\n",
       "        [ 39,  49,  59],\n",
       "        [ 69,  79,  89]],\n",
       "\n",
       "       [[ 98, 198, 298],\n",
       "        [398, 498, 598],\n",
       "        [698, 798, 898]]])"
      ]
     },
     "execution_count": 105,
     "metadata": {},
     "output_type": "execute_result"
    }
   ],
   "source": [
    "S = T1 - T2\n",
    "#VEYA\n",
    "np.subtract(T1, T2)"
   ]
  },
  {
   "cell_type": "code",
   "execution_count": 106,
   "id": "97c45582",
   "metadata": {},
   "outputs": [
    {
     "data": {
      "text/plain": [
       "array([[[   0,    0,    0],\n",
       "        [   0,    0,    0],\n",
       "        [   0,    0,    0]],\n",
       "\n",
       "       [[  10,   20,   30],\n",
       "        [  40,   50,   60],\n",
       "        [  70,   80,   90]],\n",
       "\n",
       "       [[ 200,  400,  600],\n",
       "        [ 800, 1000, 1200],\n",
       "        [1400, 1600, 1800]]])"
      ]
     },
     "execution_count": 106,
     "metadata": {},
     "output_type": "execute_result"
    }
   ],
   "source": [
    "P = T1*T2\n",
    "#VEYA\n",
    "np.multiply(T1, T2)"
   ]
  },
  {
   "cell_type": "code",
   "execution_count": 107,
   "id": "56361f41",
   "metadata": {},
   "outputs": [
    {
     "name": "stderr",
     "output_type": "stream",
     "text": [
      "C:\\Users\\ANILERMAN\\AppData\\Local\\Temp\\ipykernel_15600\\133414315.py:1: RuntimeWarning: divide by zero encountered in true_divide\n",
      "  D = T1 / T2\n",
      "C:\\Users\\ANILERMAN\\AppData\\Local\\Temp\\ipykernel_15600\\133414315.py:3: RuntimeWarning: divide by zero encountered in true_divide\n",
      "  np.divide(T1,T2)\n"
     ]
    },
    {
     "data": {
      "text/plain": [
       "array([[[ inf,  inf,  inf],\n",
       "        [ inf,  inf,  inf],\n",
       "        [ inf,  inf,  inf]],\n",
       "\n",
       "       [[ 10.,  20.,  30.],\n",
       "        [ 40.,  50.,  60.],\n",
       "        [ 70.,  80.,  90.]],\n",
       "\n",
       "       [[ 50., 100., 150.],\n",
       "        [200., 250., 300.],\n",
       "        [350., 400., 450.]]])"
      ]
     },
     "execution_count": 107,
     "metadata": {},
     "output_type": "execute_result"
    }
   ],
   "source": [
    "D = T1 / T2\n",
    "#VEYA\n",
    "np.divide(T1,T2)"
   ]
  },
  {
   "cell_type": "code",
   "execution_count": 108,
   "id": "3178ae53",
   "metadata": {},
   "outputs": [],
   "source": [
    "import pandas as pd\n",
    "import matplotlib.pyplot as plt\n",
    "import math\n",
    "import warnings\n",
    "warnings.filterwarnings(\"ignore\")"
   ]
  },
  {
   "cell_type": "code",
   "execution_count": 109,
   "id": "aa853687",
   "metadata": {},
   "outputs": [],
   "source": [
    "#Seriler"
   ]
  },
  {
   "cell_type": "code",
   "execution_count": 110,
   "id": "636816f6",
   "metadata": {},
   "outputs": [
    {
     "data": {
      "text/plain": [
       "0    1\n",
       "1    2\n",
       "2    3\n",
       "3    4\n",
       "4    5\n",
       "5    6\n",
       "6    7\n",
       "dtype: int32"
      ]
     },
     "execution_count": 110,
     "metadata": {},
     "output_type": "execute_result"
    }
   ],
   "source": [
    "v = np.array([1,2,3,4,5,6,7])\n",
    "s1 = pd.Series(v)\n",
    "s1"
   ]
  },
  {
   "cell_type": "code",
   "execution_count": 111,
   "id": "56ec73f1",
   "metadata": {},
   "outputs": [
    {
     "data": {
      "text/plain": [
       "dtype('int32')"
      ]
     },
     "execution_count": 111,
     "metadata": {},
     "output_type": "execute_result"
    }
   ],
   "source": [
    "s1.dtype"
   ]
  },
  {
   "cell_type": "code",
   "execution_count": 112,
   "id": "351b1b6b",
   "metadata": {},
   "outputs": [
    {
     "data": {
      "text/plain": [
       "28"
      ]
     },
     "execution_count": 112,
     "metadata": {},
     "output_type": "execute_result"
    }
   ],
   "source": [
    "s1.nbytes"
   ]
  },
  {
   "cell_type": "code",
   "execution_count": 113,
   "id": "584fbc94",
   "metadata": {},
   "outputs": [
    {
     "data": {
      "text/plain": [
       "7"
      ]
     },
     "execution_count": 113,
     "metadata": {},
     "output_type": "execute_result"
    }
   ],
   "source": [
    "s1.size"
   ]
  },
  {
   "cell_type": "code",
   "execution_count": 114,
   "id": "360f323c",
   "metadata": {},
   "outputs": [
    {
     "data": {
      "text/plain": [
       "a    1\n",
       "b    2\n",
       "c    3\n",
       "dtype: int64"
      ]
     },
     "execution_count": 114,
     "metadata": {},
     "output_type": "execute_result"
    }
   ],
   "source": [
    "s0 = pd.Series([1,2,3], index = ['a', 'b', 'c'])\n",
    "s0"
   ]
  },
  {
   "cell_type": "code",
   "execution_count": 115,
   "id": "7182ca48",
   "metadata": {},
   "outputs": [
    {
     "data": {
      "text/plain": [
       "a    1\n",
       "b    2\n",
       "c    3\n",
       "d    4\n",
       "e    5\n",
       "f    6\n",
       "g    7\n",
       "dtype: int32"
      ]
     },
     "execution_count": 115,
     "metadata": {},
     "output_type": "execute_result"
    }
   ],
   "source": [
    "s1.index = ['a', 'b', 'c', 'd', 'e', 'f', 'g']\n",
    "s1"
   ]
  },
  {
   "cell_type": "code",
   "execution_count": 116,
   "id": "7d5856f6",
   "metadata": {},
   "outputs": [
    {
     "data": {
      "text/plain": [
       "(array([0.14581786, 0.77496278, 0.51597778, 0.52880376, 0.48563969,\n",
       "        0.38960419, 0.64158702, 0.83236132, 0.60891678, 0.10985648]),\n",
       " array([0, 1, 2, 3, 4, 5, 6, 7, 8, 9]),\n",
       " 0    0.145818\n",
       " 1    0.774963\n",
       " 2    0.515978\n",
       " 3    0.528804\n",
       " 4    0.485640\n",
       " 5    0.389604\n",
       " 6    0.641587\n",
       " 7    0.832361\n",
       " 8    0.608917\n",
       " 9    0.109856\n",
       " dtype: float64)"
      ]
     },
     "execution_count": 116,
     "metadata": {},
     "output_type": "execute_result"
    }
   ],
   "source": [
    "v2 = np.random.random(10)\n",
    "ind2 = np.arange(0, 10)\n",
    "s = pd.Series(v2, ind2)\n",
    "v2, ind2, s"
   ]
  },
  {
   "cell_type": "code",
   "execution_count": 117,
   "id": "a5391409",
   "metadata": {},
   "outputs": [],
   "source": [
    "#Sözlükten Seri Oluşturma"
   ]
  },
  {
   "cell_type": "code",
   "execution_count": 118,
   "id": "48664309",
   "metadata": {},
   "outputs": [
    {
     "data": {
      "text/plain": [
       "a1    10\n",
       "a2    20\n",
       "a3    30\n",
       "a4    40\n",
       "dtype: int64"
      ]
     },
     "execution_count": 118,
     "metadata": {},
     "output_type": "execute_result"
    }
   ],
   "source": [
    "dict1 = {'a1':10, 'a2':20, 'a3':30, 'a4':40}\n",
    "s3 = pd.Series(dict1)\n",
    "s3"
   ]
  },
  {
   "cell_type": "code",
   "execution_count": 119,
   "id": "aabb4752",
   "metadata": {},
   "outputs": [
    {
     "data": {
      "text/plain": [
       "0    99\n",
       "1    99\n",
       "2    99\n",
       "3    99\n",
       "4    99\n",
       "5    99\n",
       "dtype: int64"
      ]
     },
     "execution_count": 119,
     "metadata": {},
     "output_type": "execute_result"
    }
   ],
   "source": [
    "pd.Series(99, index = [0,1,2,3,4,5])\n"
   ]
  },
  {
   "cell_type": "code",
   "execution_count": 120,
   "id": "d16d958d",
   "metadata": {},
   "outputs": [
    {
     "data": {
      "text/plain": [
       "0    0.145818\n",
       "1    0.774963\n",
       "2    0.515978\n",
       "3    0.528804\n",
       "4    0.485640\n",
       "5    0.389604\n",
       "6    0.641587\n",
       "7    0.832361\n",
       "8    0.608917\n",
       "9    0.109856\n",
       "dtype: float64"
      ]
     },
     "execution_count": 120,
     "metadata": {},
     "output_type": "execute_result"
    }
   ],
   "source": [
    "s"
   ]
  },
  {
   "cell_type": "code",
   "execution_count": 121,
   "id": "2c1742e9",
   "metadata": {},
   "outputs": [
    {
     "data": {
      "text/plain": [
       "0    0.145818\n",
       "1    0.774963\n",
       "2    0.515978\n",
       "3    0.528804\n",
       "4    0.485640\n",
       "5    0.389604\n",
       "6    0.641587\n",
       "7    0.832361\n",
       "8    0.608917\n",
       "9    0.109856\n",
       "dtype: float64"
      ]
     },
     "execution_count": 121,
     "metadata": {},
     "output_type": "execute_result"
    }
   ],
   "source": [
    "s[:]"
   ]
  },
  {
   "cell_type": "code",
   "execution_count": 122,
   "id": "459255d5",
   "metadata": {},
   "outputs": [
    {
     "data": {
      "text/plain": [
       "7    0.832361\n",
       "8    0.608917\n",
       "dtype: float64"
      ]
     },
     "execution_count": 122,
     "metadata": {},
     "output_type": "execute_result"
    }
   ],
   "source": [
    "s[-3:-1]"
   ]
  },
  {
   "cell_type": "code",
   "execution_count": 123,
   "id": "5ac75a3f",
   "metadata": {},
   "outputs": [
    {
     "data": {
      "text/plain": [
       "a    1\n",
       "b    2\n",
       "c    3\n",
       "d    4\n",
       "e    5\n",
       "f    6\n",
       "g    7\n",
       "dtype: int32"
      ]
     },
     "execution_count": 123,
     "metadata": {},
     "output_type": "execute_result"
    }
   ],
   "source": [
    "#Serileri Birleştirme\n",
    "s1"
   ]
  },
  {
   "cell_type": "code",
   "execution_count": 124,
   "id": "3bb4420c",
   "metadata": {},
   "outputs": [
    {
     "data": {
      "text/plain": [
       "a1    10\n",
       "a2    20\n",
       "a3    30\n",
       "a4    40\n",
       "dtype: int64"
      ]
     },
     "execution_count": 124,
     "metadata": {},
     "output_type": "execute_result"
    }
   ],
   "source": [
    "s3"
   ]
  },
  {
   "cell_type": "code",
   "execution_count": 125,
   "id": "fd73fb77",
   "metadata": {},
   "outputs": [],
   "source": [
    "s4 = s1.append(s3)"
   ]
  },
  {
   "cell_type": "code",
   "execution_count": 126,
   "id": "d145f66d",
   "metadata": {},
   "outputs": [
    {
     "data": {
      "text/plain": [
       "a      1\n",
       "b      2\n",
       "c      3\n",
       "d      4\n",
       "e      5\n",
       "f      6\n",
       "g      7\n",
       "a1    10\n",
       "a2    20\n",
       "a3    30\n",
       "a4    40\n",
       "dtype: int64"
      ]
     },
     "execution_count": 126,
     "metadata": {},
     "output_type": "execute_result"
    }
   ],
   "source": [
    "s4"
   ]
  },
  {
   "cell_type": "code",
   "execution_count": 127,
   "id": "527ab145",
   "metadata": {},
   "outputs": [
    {
     "data": {
      "text/plain": [
       "a      1\n",
       "b      2\n",
       "c      3\n",
       "d      4\n",
       "e      5\n",
       "f      6\n",
       "g      7\n",
       "a1    10\n",
       "a2    20\n",
       "a3    30\n",
       "dtype: int64"
      ]
     },
     "execution_count": 127,
     "metadata": {},
     "output_type": "execute_result"
    }
   ],
   "source": [
    "s4.drop('a4', inplace = False)"
   ]
  },
  {
   "cell_type": "code",
   "execution_count": 128,
   "id": "53fb7202",
   "metadata": {},
   "outputs": [
    {
     "data": {
      "text/plain": [
       "a      1\n",
       "b      2\n",
       "c      3\n",
       "d      4\n",
       "e      5\n",
       "f      6\n",
       "g      7\n",
       "a1    10\n",
       "a2    20\n",
       "a3    30\n",
       "a4    40\n",
       "dtype: int64"
      ]
     },
     "execution_count": 128,
     "metadata": {},
     "output_type": "execute_result"
    }
   ],
   "source": [
    "s4"
   ]
  },
  {
   "cell_type": "code",
   "execution_count": 129,
   "id": "abc51ec2",
   "metadata": {},
   "outputs": [],
   "source": [
    "s4.drop('a4', inplace = True)"
   ]
  },
  {
   "cell_type": "code",
   "execution_count": 130,
   "id": "99c079d9",
   "metadata": {},
   "outputs": [
    {
     "data": {
      "text/plain": [
       "a      1\n",
       "b      2\n",
       "c      3\n",
       "d      4\n",
       "e      5\n",
       "f      6\n",
       "g      7\n",
       "a1    10\n",
       "a2    20\n",
       "a3    30\n",
       "dtype: int64"
      ]
     },
     "execution_count": 130,
     "metadata": {},
     "output_type": "execute_result"
    }
   ],
   "source": [
    "s4"
   ]
  },
  {
   "cell_type": "code",
   "execution_count": 131,
   "id": "8dcd6ebd",
   "metadata": {},
   "outputs": [],
   "source": [
    "#ödev"
   ]
  },
  {
   "cell_type": "code",
   "execution_count": 134,
   "id": "a938962e",
   "metadata": {},
   "outputs": [],
   "source": [
    "abn = np.arange(0,200)"
   ]
  },
  {
   "cell_type": "code",
   "execution_count": 135,
   "id": "4e6fbd6e",
   "metadata": {},
   "outputs": [
    {
     "data": {
      "text/plain": [
       "array([  0,   1,   2,   3,   4,   5,   6,   7,   8,   9,  10,  11,  12,\n",
       "        13,  14,  15,  16,  17,  18,  19,  20,  21,  22,  23,  24,  25,\n",
       "        26,  27,  28,  29,  30,  31,  32,  33,  34,  35,  36,  37,  38,\n",
       "        39,  40,  41,  42,  43,  44,  45,  46,  47,  48,  49,  50,  51,\n",
       "        52,  53,  54,  55,  56,  57,  58,  59,  60,  61,  62,  63,  64,\n",
       "        65,  66,  67,  68,  69,  70,  71,  72,  73,  74,  75,  76,  77,\n",
       "        78,  79,  80,  81,  82,  83,  84,  85,  86,  87,  88,  89,  90,\n",
       "        91,  92,  93,  94,  95,  96,  97,  98,  99, 100, 101, 102, 103,\n",
       "       104, 105, 106, 107, 108, 109, 110, 111, 112, 113, 114, 115, 116,\n",
       "       117, 118, 119, 120, 121, 122, 123, 124, 125, 126, 127, 128, 129,\n",
       "       130, 131, 132, 133, 134, 135, 136, 137, 138, 139, 140, 141, 142,\n",
       "       143, 144, 145, 146, 147, 148, 149, 150, 151, 152, 153, 154, 155,\n",
       "       156, 157, 158, 159, 160, 161, 162, 163, 164, 165, 166, 167, 168,\n",
       "       169, 170, 171, 172, 173, 174, 175, 176, 177, 178, 179, 180, 181,\n",
       "       182, 183, 184, 185, 186, 187, 188, 189, 190, 191, 192, 193, 194,\n",
       "       195, 196, 197, 198, 199])"
      ]
     },
     "execution_count": 135,
     "metadata": {},
     "output_type": "execute_result"
    }
   ],
   "source": [
    "abn"
   ]
  },
  {
   "cell_type": "code",
   "execution_count": 136,
   "id": "3d2e4c6e",
   "metadata": {},
   "outputs": [
    {
     "data": {
      "text/plain": [
       "array([  0,   2,   4,   6,   8,  10,  12,  14,  16,  18,  20,  22,  24,\n",
       "        26,  28,  30,  32,  34,  36,  38,  40,  42,  44,  46,  48,  50,\n",
       "        52,  54,  56,  58,  60,  62,  64,  66,  68,  70,  72,  74,  76,\n",
       "        78,  80,  82,  84,  86,  88,  90,  92,  94,  96,  98, 100, 102,\n",
       "       104, 106, 108, 110, 112, 114, 116, 118, 120, 122, 124, 126, 128,\n",
       "       130, 132, 134, 136, 138, 140, 142, 144, 146, 148, 150, 152, 154,\n",
       "       156, 158, 160, 162, 164, 166, 168, 170, 172, 174, 176, 178, 180,\n",
       "       182, 184, 186, 188, 190, 192, 194, 196, 198])"
      ]
     },
     "execution_count": 136,
     "metadata": {},
     "output_type": "execute_result"
    }
   ],
   "source": [
    "abb = abn[abn % 2 == 0]\n",
    "abb"
   ]
  },
  {
   "cell_type": "code",
   "execution_count": 137,
   "id": "109e994a",
   "metadata": {},
   "outputs": [
    {
     "data": {
      "text/plain": [
       "array([[  0,   2,   4,   6,   8,  10,  12,  14,  16,  18],\n",
       "       [ 20,  22,  24,  26,  28,  30,  32,  34,  36,  38],\n",
       "       [ 40,  42,  44,  46,  48,  50,  52,  54,  56,  58],\n",
       "       [ 60,  62,  64,  66,  68,  70,  72,  74,  76,  78],\n",
       "       [ 80,  82,  84,  86,  88,  90,  92,  94,  96,  98],\n",
       "       [100, 102, 104, 106, 108, 110, 112, 114, 116, 118],\n",
       "       [120, 122, 124, 126, 128, 130, 132, 134, 136, 138],\n",
       "       [140, 142, 144, 146, 148, 150, 152, 154, 156, 158],\n",
       "       [160, 162, 164, 166, 168, 170, 172, 174, 176, 178],\n",
       "       [180, 182, 184, 186, 188, 190, 192, 194, 196, 198]])"
      ]
     },
     "execution_count": 137,
     "metadata": {},
     "output_type": "execute_result"
    }
   ],
   "source": [
    "abb.reshape(10,10)"
   ]
  },
  {
   "cell_type": "code",
   "execution_count": 162,
   "id": "8c3aae69",
   "metadata": {},
   "outputs": [
    {
     "data": {
      "text/plain": [
       "array([[1., 1., 1., 1., 1., 1., 1.],\n",
       "       [1., 0., 0., 0., 0., 0., 1.],\n",
       "       [1., 0., 0., 0., 0., 0., 1.],\n",
       "       [1., 0., 0., 0., 0., 0., 1.],\n",
       "       [1., 1., 1., 1., 1., 1., 1.]])"
      ]
     },
     "execution_count": 162,
     "metadata": {},
     "output_type": "execute_result"
    }
   ],
   "source": [
    "def onesquarematris(ac,ab):\n",
    "    uzn = np.zeros(ac*ab)\n",
    "    uzn = uzn.reshape(ac,ab)\n",
    "    el = ab-1\n",
    "    ele = ac - 1\n",
    "    for i in range(ac):\n",
    "        for j in range(ab):\n",
    "            if i == 0:\n",
    "               uzn[i][j] = 1 \n",
    "            if j == 0:\n",
    "                uzn[i][j] = 1\n",
    "            if j == el:\n",
    "                uzn[i][j] = 1\n",
    "            if i == ele:\n",
    "                uzn[i][j] = 1\n",
    "                    \n",
    "    \n",
    "    return uzn\n",
    "\n",
    "onesquarematris(5,7)"
   ]
  },
  {
   "cell_type": "code",
   "execution_count": null,
   "id": "87aeb0da",
   "metadata": {},
   "outputs": [],
   "source": []
  }
 ],
 "metadata": {
  "kernelspec": {
   "display_name": "Python 3 (ipykernel)",
   "language": "python",
   "name": "python3"
  },
  "language_info": {
   "codemirror_mode": {
    "name": "ipython",
    "version": 3
   },
   "file_extension": ".py",
   "mimetype": "text/x-python",
   "name": "python",
   "nbconvert_exporter": "python",
   "pygments_lexer": "ipython3",
   "version": "3.9.12"
  }
 },
 "nbformat": 4,
 "nbformat_minor": 5
}
